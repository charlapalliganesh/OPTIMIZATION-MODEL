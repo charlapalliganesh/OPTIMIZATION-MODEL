{
 "cells": [
  {
   "cell_type": "code",
   "execution_count": 7,
   "id": "c000631a",
   "metadata": {},
   "outputs": [],
   "source": [
    "#pip install pulp"
   ]
  },
  {
   "cell_type": "markdown",
   "id": "2e052ecc",
   "metadata": {},
   "source": [
    "#  Problem statement"
   ]
  },
  {
   "cell_type": "markdown",
   "id": "f4eef710",
   "metadata": {},
   "source": [
    "\"\"\"A restaurant chain wants to design a daily meal combo (1 meal per customer) using available food items such that:\n",
    "\n",
    "The meal meets the minimum nutritional requirements.\n",
    "\n",
    "The meal costs as little as possible.\"\"\"\n",
    "\n"
   ]
  },
  {
   "cell_type": "raw",
   "id": "faa77f8b",
   "metadata": {},
   "source": [
    "\"\"\"Available Food Items\n",
    "Food Item\t      Cost (unit)\tCalories\tProtein (g)\tFat (g)\tCalcium (mg)\n",
    "Chicken Breast\t 220\t         250\t      30\t    3\t    20\n",
    "Rice\t         50 \t         200\t       4\t    1\t    10\n",
    "Broccoli\t     80 \t         50\t           4\t    0.5\t     50\n",
    "Milk\t         60 \t         150\t       8\t     5\t     300\n",
    "Eggs\t         7\t             100\t       6\t     6\t      40\"\"\""
   ]
  },
  {
   "cell_type": "markdown",
   "id": "1c51574c",
   "metadata": {},
   "source": [
    "\"\"\"Requirements\n",
    "A daily meal must contain at least:\n",
    "\n",
    "Calories: 2000\n",
    "\n",
    "Protein: 50g\n",
    "\n",
    "Fat: no more than 70g\n",
    "\n",
    "Calcium: 800mg\"\"\""
   ]
  },
  {
   "cell_type": "markdown",
   "id": "90ff81df",
   "metadata": {},
   "source": [
    "## Solution step by step"
   ]
  },
  {
   "cell_type": "markdown",
   "id": "bdc32a55",
   "metadata": {},
   "source": [
    "\"\"\"Solution Plan (Step-by-Step)\n",
    "Define decision variables: how many units of each food item to include.\n",
    "\n",
    "Define the objective function: minimize total cost.\n",
    "\n",
    "Define the constraints:\n",
    "\n",
    "Total calories ≥ 2000\n",
    "\n",
    "Total protein ≥ 50g\n",
    "\n",
    "Total fat ≤ 70g\n",
    "\n",
    "Total calcium ≥ 800mg\"\"\""
   ]
  },
  {
   "cell_type": "markdown",
   "id": "075c8edf",
   "metadata": {},
   "source": [
    "1. Main Problem Statement\n",
    "Design a daily meal plan using selected food items that meets minimum nutritional requirements\n",
    "(calories, protein, calcium) and limits fat, while minimizing the total cost of the meal."
   ]
  },
  {
   "cell_type": "markdown",
   "id": "9eb1a25a",
   "metadata": {},
   "source": [
    "2. Method Used\n",
    "Linear Programming (LP) solved using the Simplex Method via the CBC solver from the PuLP Python library."
   ]
  },
  {
   "cell_type": "markdown",
   "id": "2df4714a",
   "metadata": {},
   "source": [
    "3. Why This Particular Method Only?\n",
    "The problem involves continuous decision variables (e.g., using 1.5 units of rice is allowed).\n",
    "\n",
    "All relationships (objective and constraints) are linear equations or inequalities.\n",
    "\n",
    "The Simplex Method is efficient and reliable for solving linear problems with continuous variables.\n",
    "\n",
    "The PuLP library uses Simplex (CBC) by default, making it easy and suitable for this case."
   ]
  },
  {
   "cell_type": "markdown",
   "id": "01d87be4",
   "metadata": {},
   "source": [
    "4. Process for Solving the Problem\n",
    "\n",
    "1\tDefine decision variables (amounts of food items).\n",
    "\n",
    "\n",
    "2\tDefine the objective function: minimize total cost.\n",
    "\n",
    "3\tSet up constraints for calories, protein, fat, and calcium.\n",
    "\n",
    "4\tUse the Simplex Method to solve the linear program.\n",
    "\n",
    "5\tExtract and print the optimal solution."
   ]
  },
  {
   "cell_type": "markdown",
   "id": "78e5adcd",
   "metadata": {},
   "source": [
    "5. What Output We Are Expecting\n",
    "Optimal quantities (in units) of each food item to include in the meal.\n",
    "\n",
    "The minimum total cost of the meal that satisfies all nutrition constraints.\n",
    "\n",
    "The solution status (e.g., \"Optimal\") indicating that the best possible solution was found."
   ]
  },
  {
   "cell_type": "code",
   "execution_count": 1,
   "id": "ada9970a",
   "metadata": {},
   "outputs": [
    {
     "name": "stdout",
     "output_type": "stream",
     "text": [
      "Status: Optimal\n",
      "\n",
      "Optimal Daily Meal Plan (units per food item):\n",
      "Chicken: 0.00 units\n",
      "Rice: 4.11 units\n",
      "Broccoli: 0.00 units\n",
      "Milk: 1.20 units\n",
      "Eggs: 9.98 units\n",
      "\n",
      "Total Cost: 347.28\n"
     ]
    }
   ],
   "source": [
    "# Import PuLP library\n",
    "from pulp import *\n",
    "\n",
    "# Step 1: Define the list of food items\n",
    "foods = ['chicken', 'rice', 'broccoli', 'milk', 'eggs']\n",
    "\n",
    "# Step 2: Define the cost of each food item per unit\n",
    "cost = {\n",
    "    'chicken': 220,\n",
    "    'rice': 50,\n",
    "    'broccoli': 80,\n",
    "    'milk': 60,\n",
    "    'eggs': 7\n",
    "}\n",
    "\n",
    "# Step 3: Define the nutrition content of each food item\n",
    "calories = {\n",
    "    'chicken': 250, 'rice': 200, 'broccoli': 50, 'milk': 150, 'eggs': 100\n",
    "}\n",
    "\n",
    "protein = {\n",
    "    'chicken': 30, 'rice': 4, 'broccoli': 4, 'milk': 8, 'eggs': 6\n",
    "}\n",
    "\n",
    "fat = {\n",
    "    'chicken': 3, 'rice': 1, 'broccoli': 0.5, 'milk': 5, 'eggs': 6\n",
    "}\n",
    "\n",
    "calcium = {\n",
    "    'chicken': 20, 'rice': 10, 'broccoli': 50, 'milk': 300, 'eggs': 40\n",
    "}\n",
    "\n",
    "# Step 4: Create a Linear Programming model (minimize cost)\n",
    "model = LpProblem(\"Diet_Optimization\", LpMinimize)\n",
    "\n",
    "# Step 5: Create decision variables for each food item\n",
    "# food_vars['chicken'] means how many units of chicken are included\n",
    "food_vars = LpVariable.dicts(\"Food\", foods, lowBound=0, cat='Continuous')\n",
    "\n",
    "# Step 6: Define the objective function (minimize total cost)\n",
    "model += lpSum([cost[f] * food_vars[f] for f in foods]), \"Total Cost\"\n",
    "\n",
    "# Step 7: Add nutritional constraints\n",
    "\n",
    "# Total calories must be at least 2000\n",
    "model += lpSum([calories[f] * food_vars[f] for f in foods]) >= 2000, \"Calories Requirement\"\n",
    "\n",
    "# Total protein must be at least 50g\n",
    "model += lpSum([protein[f] * food_vars[f] for f in foods]) >= 50, \"Protein Requirement\"\n",
    "\n",
    "# Total fat must be no more than 70g\n",
    "model += lpSum([fat[f] * food_vars[f] for f in foods]) <= 70, \"Fat Limit\"\n",
    "\n",
    "# Total calcium must be at least 800mg\n",
    "model += lpSum([calcium[f] * food_vars[f] for f in foods]) >= 800, \"Calcium Requirement\"\n",
    "\n",
    "# Step 8: Solve the linear program\n",
    "model.solve()\n",
    "\n",
    "# Step 9: Output the results\n",
    "print(\"Status:\", LpStatus[model.status])\n",
    "\n",
    "print(\"\\nOptimal Daily Meal Plan (units per food item):\")\n",
    "for f in foods:\n",
    "    print(f\"{f.title()}: {food_vars[f].varValue:.2f} units\")\n",
    "\n",
    "# Step 10: Print the total cost of this plan\n",
    "print(f\"\\nTotal Cost: {value(model.objective):.2f}\")"
   ]
  },
  {
   "cell_type": "code",
   "execution_count": null,
   "id": "2dbe7430",
   "metadata": {},
   "outputs": [],
   "source": []
  }
 ],
 "metadata": {
  "kernelspec": {
   "display_name": "Python 3 (ipykernel)",
   "language": "python",
   "name": "python3"
  },
  "language_info": {
   "codemirror_mode": {
    "name": "ipython",
    "version": 3
   },
   "file_extension": ".py",
   "mimetype": "text/x-python",
   "name": "python",
   "nbconvert_exporter": "python",
   "pygments_lexer": "ipython3",
   "version": "3.9.12"
  }
 },
 "nbformat": 4,
 "nbformat_minor": 5
}
